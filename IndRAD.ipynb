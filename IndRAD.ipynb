{
  "nbformat": 4,
  "nbformat_minor": 0,
  "metadata": {
    "colab": {
      "provenance": [],
      "authorship_tag": "ABX9TyPt9vLVRkmIuqbucuquecWc",
      "include_colab_link": true
    },
    "kernelspec": {
      "name": "python3",
      "display_name": "Python 3"
    },
    "language_info": {
      "name": "python"
    }
  },
  "cells": [
    {
      "cell_type": "markdown",
      "metadata": {
        "id": "view-in-github",
        "colab_type": "text"
      },
      "source": [
        "<a href=\"https://colab.research.google.com/github/franzsetti/IndRAD/blob/main/IndRAD.ipynb\" target=\"_parent\"><img src=\"https://colab.research.google.com/assets/colab-badge.svg\" alt=\"Open In Colab\"/></a>"
      ]
    },
    {
      "cell_type": "markdown",
      "source": [
        "#IndRAD notebook\n"
      ],
      "metadata": {
        "id": "rBENx8pkpuOB"
      }
    },
    {
      "cell_type": "code",
      "source": [],
      "metadata": {
        "id": "hf9MsuVrpvur"
      },
      "execution_count": null,
      "outputs": []
    }
  ]
}